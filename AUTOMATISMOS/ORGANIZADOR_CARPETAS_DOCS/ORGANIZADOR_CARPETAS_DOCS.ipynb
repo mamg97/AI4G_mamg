{
  "cells": [
    {
      "cell_type": "markdown",
      "metadata": {},
      "source": [
        "# ORGANIZADOR DE CARPETAS Y DOCS\n",
        "\n",
        "Rutas originales de archivos\n",
        "\n",
        "'/Users/miguelangelmayordomogragera/Documents/TRABAJO/CIBERNOS/ARCHIVOS MARZO 2024/ORGANIZADOR CARPETAS Y DOCS/ORGANIZADOR_CARPETAS_DOCS.py'\n",
        "'/Users/miguelangelmayordomogragera/Documents/TRABAJO/CIBERNOS/ARCHIVOS MARZO 2024/MACRO EXCEL/ORGANIZADOR_CARPETAS v2.xlsm'\n"
      ]
    },
    {
      "cell_type": "markdown",
      "metadata": {},
      "source": [
        "## ARCHIVO PYTHON"
      ]
    },
    {
      "cell_type": "code",
      "execution_count": null,
      "metadata": {},
      "outputs": [],
      "source": [
        "# Importación de librerías principales\n",
        "import pandas as pd\n",
        "import os\n",
        "import re\n",
        "import shutil"
      ]
    },
    {
      "cell_type": "markdown",
      "metadata": {},
      "source": [
        "### Carga de Datos"
      ]
    },
    {
      "cell_type": "code",
      "execution_count": null,
      "metadata": {},
      "outputs": [],
      "source": [
        "# Datos a cargar\n",
        "df_datos=pd.read_excel('C:/Users/ES45877372P/OneDrive - Enel Spa/ARCHIVOS_TRABAJO/ORGANIZADOR CARPETAS Y DOCS/OneDrive_1_19-4-2023/01_MT_eDRD/eDRD_MT_FUERZA MAYOR_2022.xlsx',sheet_name='Muestra MT FM',dtype=str)\n",
        "\n",
        "# Ruta de la carpeta principal\n",
        "ruta_principal = r'C:/Users/ES45877372P/OneDrive - Enel Spa/ARCHIVOS_TRABAJO/ORGANIZADOR CARPETAS Y DOCS/MT_FM'\n",
        "\n",
        "# Ruta de la carpeta con los documentos a mover\n",
        "ruta_documentos = os.path.join('C:/Users/ES45877372P/Desktop/DOCS MT FM')"
      ]
    },
    {
      "cell_type": "markdown",
      "metadata": {},
      "source": [
        "### Movimiento de archivos"
      ]
    },
    {
      "cell_type": "code",
      "execution_count": null,
      "metadata": {},
      "outputs": [],
      "source": [
        "# Crea la carpeta principal si no existe\n",
        "if not os.path.exists(ruta_principal):\n",
        "    os.mkdir(ruta_principal)\n",
        "\n",
        "# Agrupa los datos por identificador y referencia\n",
        "grupos = df_datos.groupby(['ZONA', 'Referencia'])\n",
        "\n",
        "# Itera sobre los grupos y crea las carpetas correspondientes\n",
        "for (zona, referencia), _ in grupos:\n",
        "    # Crea la carpeta para el identificador si no existe\n",
        "    carpeta_identificador = os.path.join(ruta_principal, zona)\n",
        "    if not os.path.exists(carpeta_identificador):\n",
        "        os.mkdir(carpeta_identificador)\n",
        "    \n",
        "    # Crea la carpeta para la referencia si no existe\n",
        "    carpeta_referencia = os.path.join(carpeta_identificador, referencia)\n",
        "    if not os.path.exists(carpeta_referencia):\n",
        "        os.mkdir(carpeta_referencia)"
      ]
    },
    {
      "cell_type": "code",
      "execution_count": null,
      "metadata": {},
      "outputs": [],
      "source": [
        "# Itera sobre los grupos y mueve los archivos correspondientes\n",
        "for (zona, referencia), grupo in grupos:\n",
        "    # Ruta de la carpeta correspondiente a la referencia\n",
        "    carpeta_referencia = os.path.join(ruta_principal, zona, referencia)\n",
        "    \n",
        "    # Itera sobre los archivos en la carpeta de documentos\n",
        "    for archivo in os.listdir(ruta_documentos):\n",
        "        # Busca el número de referencia en el nombre del archivo\n",
        "        if re.search(referencia, archivo):\n",
        "            # Ruta completa del archivo a mover\n",
        "            ruta_origen = os.path.join(ruta_documentos, archivo)\n",
        "            \n",
        "            # Ruta completa de destino del archivo\n",
        "            ruta_destino = os.path.join(carpeta_referencia, archivo)\n",
        "            \n",
        "            # Mueve el archivo a la carpeta correspondiente\n",
        "            shutil.move(ruta_origen, ruta_destino)"
      ]
    },
    {
      "cell_type": "code",
      "execution_count": null,
      "metadata": {},
      "outputs": [],
      "source": [
        "#Carpetas vacias\n",
        "# Lista de carpetas vacías\n",
        "carpetas_vacias = []\n",
        "\n",
        "# Itera sobre los grupos y verifica si las carpetas están vacías\n",
        "for (zona, referencia), _ in grupos:\n",
        "    # Ruta de la carpeta correspondiente a la referencia\n",
        "    carpeta_referencia = os.path.join(ruta_principal, zona, referencia)\n",
        "    \n",
        "    # Verifica si la carpeta está vacía\n",
        "    if not os.listdir(carpeta_referencia):\n",
        "        carpetas_vacias.append(os.path.basename(carpeta_referencia))\n",
        "\n",
        "# Imprime la lista de carpetas vacías\n",
        "print(carpetas_vacias)"
      ]
    },
    {
      "cell_type": "markdown",
      "metadata": {},
      "source": [
        "## CÓDIGO VBA\n",
        "Este código es para una macro de Excel, cuyas instrucciones son las que se muestran a continuación:"
      ]
    },
    {
      "cell_type": "markdown",
      "metadata": {},
      "source": [
        "![Captura de pantalla](./AUTOMATISMOS/ORGANIZADOR_CARPETAS_DOCS/img/c1.png)\n",
        "\n",
        "![Captura de pantalla](./AUTOMATISMOS/ORGANIZADOR_CARPETAS_DOCS/img/c2.png)"
      ]
    },
    {
      "cell_type": "markdown",
      "metadata": {},
      "source": []
    },
    {
      "cell_type": "markdown",
      "metadata": {},
      "source": [
        "El aspecto de la hoja principal es este\n",
        "\n",
        "![Captura de pantalla](./img/c3.png)\n",
        "\n",
        "Esto solo se verá en GitHub, no afecta localmente\n",
        "\n",
        "![Captura](https://raw.githubusercontent.com/mamg97/AI4G_mamg/main/AUTOMATISMOS/ORGANIZADOR_CARPETAS_DOCS/img/c3.png)\n",
        "\n",
        "\n"
      ]
    },
    {
      "cell_type": "markdown",
      "metadata": {},
      "source": [
        "![Screenshot of a comment on a GitHub issue showing an image, added in the Markdown, of an Octocat smiling and raising a tentacle.](https://myoctocat.com/assets/images/base-octocat.svg)"
      ]
    },
    {
      "cell_type": "code",
      "execution_count": null,
      "metadata": {},
      "outputs": [],
      "source": []
    },
    {
      "cell_type": "code",
      "execution_count": null,
      "metadata": {},
      "outputs": [],
      "source": [
        "# Aquí puedes escribir tus conclusiones o próximos pasos\n",
        "print(\"Análisis finalizado.\")"
      ]
    }
  ],
  "metadata": {
    "kernelspec": {
      "display_name": "Python 3",
      "language": "python",
      "name": "python3"
    },
    "language_info": {
      "codemirror_mode": {
        "name": "ipython",
        "version": 3
      },
      "file_extension": ".py",
      "mimetype": "text/x-python",
      "name": "python",
      "nbconvert_exporter": "python",
      "pygments_lexer": "ipython3",
      "version": "3.11.3"
    }
  },
  "nbformat": 4,
  "nbformat_minor": 2
}
