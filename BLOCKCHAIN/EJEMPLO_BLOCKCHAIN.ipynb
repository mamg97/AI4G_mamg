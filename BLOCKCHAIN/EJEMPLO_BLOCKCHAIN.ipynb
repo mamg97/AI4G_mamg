{
  "cells": [
    {
      "cell_type": "markdown",
      "metadata": {},
      "source": [
        "# INTRODUCCIÓN A TEORÍA BLOCKCHAIN"
      ]
    },
    {
      "cell_type": "markdown",
      "metadata": {},
      "source": [
        "## Sección 1: ¿Qué es una Blockchain?\n",
        "\n",
        "### ¿Qué es una blockchain?\n",
        "\n",
        "Una **blockchain** (o \"cadena de bloques\") es una base de datos distribuida que guarda información de forma segura, transparente e inmutable.\n",
        "\n",
        "Imagina una hoja de cálculo compartida por muchas personas en todo el mundo. Cada vez que alguien añade una nueva fila (bloque), todos los demás ven esa actualización, y nadie puede modificar filas pasadas sin que todos se enteren.\n",
        "\n",
        "### Características clave:\n",
        "\n",
        "- 🔒 **Inmutabilidad**: una vez que algo se guarda, no se puede cambiar sin romper la cadena.\n",
        "- 👥 **Descentralización**: no hay una autoridad central, sino múltiples nodos.\n",
        "- 🔗 **Encadenamiento criptográfico**: cada bloque tiene una referencia al anterior, formando una cadena.\n",
        "- ⛏️ **Prueba de trabajo (Proof of Work)**: para añadir un bloque, se debe resolver un problema difícil (como un Sudoku computacional).\n",
        "\n",
        "Ahora vamos a construir nuestra propia blockchain en Python desde cero. 🧠👨‍💻\n"
      ]
    },
    {
      "cell_type": "markdown",
      "metadata": {},
      "source": [
        "## Sección 2: ¿Qué es un bloque?\n",
        "\n",
        "### ¿Qué es un bloque?\n",
        "\n",
        "Un bloque es una unidad de información. Contiene:\n",
        "\n",
        "- 📦 Datos (por ejemplo, una transacción)\n",
        "- ⏱️ Marca de tiempo\n",
        "- 🔗 Hash del bloque anterior (enlace en la cadena)\n",
        "- 🧩 Nonce (número para resolver la prueba de trabajo)\n",
        "- 🧠 Su propio hash (identificador único generado con un algoritmo criptográfico)\n",
        "\n",
        "Vamos a crear la clase `Block` para representar esto.\n"
      ]
    },
    {
      "cell_type": "markdown",
      "metadata": {},
      "source": [
        "### Código - clase Block"
      ]
    },
    {
      "cell_type": "code",
      "execution_count": null,
      "metadata": {},
      "outputs": [],
      "source": [
        "import hashlib   # Para funciones hash criptográficas\n",
        "import time      # Para capturar el momento exacto de creación de un bloque\n",
        "import json      # Para serializar los datos del bloque de forma consistente\n",
        "\n",
        "class Block:\n",
        "    def __init__(self, index, timestamp, data, previous_hash, nonce=0):\n",
        "        self.index = index                      # Posición del bloque en la cadena\n",
        "        self.timestamp = timestamp              # Fecha y hora de creación\n",
        "        self.data = data                        # Información que contiene el bloque (por ejemplo, transacciones)\n",
        "        self.previous_hash = previous_hash      # Hash del bloque anterior en la cadena\n",
        "        self.nonce = nonce                      # Número aleatorio que se modifica hasta que se cumpla la dificultad\n",
        "        self.hash = self.calculate_hash()       # Hash del bloque calculado en base a su contenido\n",
        "\n",
        "    def calculate_hash(self):\n",
        "        # Creamos un diccionario solo con los atributos relevantes (sin incluir el propio hash)\n",
        "        block_content = {\n",
        "            \"index\": self.index,\n",
        "            \"timestamp\": self.timestamp,\n",
        "            \"data\": self.data,\n",
        "            \"previous_hash\": self.previous_hash,\n",
        "            \"nonce\": self.nonce\n",
        "        }\n",
        "        # Serializamos el contenido del bloque y lo codificamos en bytes\n",
        "        block_string = json.dumps(block_content, sort_keys=True).encode()\n",
        "        # Calculamos el hash SHA-256 del contenido serializado\n",
        "        return hashlib.sha256(block_string).hexdigest()\n",
        "\n",
        "    def __repr__(self):\n",
        "        # Representación legible del bloque para imprimirlo bonito\n",
        "        return json.dumps(self.__dict__, indent=4)\n",
        "\n"
      ]
    },
    {
      "cell_type": "markdown",
      "metadata": {},
      "source": [
        "## Sección 3: La cadena de bloques\n",
        "\n",
        "### ¿Qué es la cadena?\n",
        "\n",
        "Una **cadena de bloques** no es más que una lista de bloques conectados entre sí por sus hashes.\n",
        "\n",
        "El primer bloque se llama **bloque génesis**. Cada nuevo bloque contiene el hash del anterior, lo que garantiza la integridad.\n",
        "\n",
        "A continuación creamos nuestra clase `Blockchain`.\n"
      ]
    },
    {
      "cell_type": "markdown",
      "metadata": {},
      "source": [
        "## Código – clase Blockchain"
      ]
    },
    {
      "cell_type": "code",
      "execution_count": 9,
      "metadata": {},
      "outputs": [],
      "source": [
        "class Blockchain:\n",
        "    def __init__(self, difficulty=4):\n",
        "        self.chain = [self.create_genesis_block()]  # Lista de bloques que comienza con el bloque génesis\n",
        "        self.difficulty = difficulty                # Número de ceros iniciales que debe tener el hash (dificultad del minado)\n",
        "\n",
        "    def create_genesis_block(self):\n",
        "        # Crea el primer bloque de la cadena, llamado \"bloque génesis\"\n",
        "        return Block(0, time.time(), \"Genesis Block\", \"0\")\n",
        "\n",
        "    def get_last_block(self):\n",
        "        # Devuelve el último bloque de la cadena\n",
        "        return self.chain[-1]\n",
        "\n",
        "    def add_block(self, new_data):\n",
        "        # Crea un nuevo bloque con los datos que le pasamos\n",
        "        last_block = self.get_last_block()                           # Obtenemos el último bloque actual\n",
        "        new_block = Block(len(self.chain), time.time(), new_data, last_block.hash)\n",
        "        new_block = self.proof_of_work(new_block)                    # Aplicamos la prueba de trabajo para validar el bloque\n",
        "        self.chain.append(new_block)                                 # Añadimos el bloque a la cadena\n",
        "\n",
        "    def proof_of_work(self, block):\n",
        "        # Intenta encontrar un hash que empiece con un número determinado de ceros (\"0\" * difficulty)\n",
        "        print(f\"⛏️ Mining block {block.index}...\")\n",
        "        while block.hash[:self.difficulty] != \"0\" * self.difficulty:\n",
        "            block.nonce += 1                      # Incrementamos el nonce para cambiar el hash\n",
        "            block.hash = block.calculate_hash()   # Calculamos un nuevo hash\n",
        "        print(f\"✅ Block mined: {block.hash}\")     # Éxito al encontrar un hash válido\n",
        "        return block\n",
        "\n",
        "    def is_chain_valid(self):\n",
        "        # Verifica si la cadena completa es válida\n",
        "        for i in range(1, len(self.chain)):\n",
        "            current = self.chain[i]               # Bloque actual\n",
        "            prev = self.chain[i-1]                # Bloque anterior\n",
        "\n",
        "            if current.hash != current.calculate_hash():\n",
        "                # El hash del bloque no es válido (puede haber sido alterado)\n",
        "                return False\n",
        "\n",
        "            if current.previous_hash != prev.hash:\n",
        "                # El hash anterior no coincide con el hash del bloque anterior\n",
        "                return False\n",
        "\n",
        "        return True  # Todos los bloques son válidos\n",
        "\n",
        "    def print_chain(self):\n",
        "        # Muestra todos los bloques de la cadena\n",
        "        for block in self.chain:\n",
        "            print(block)\n",
        "            print(\"-\" * 40)\n"
      ]
    },
    {
      "cell_type": "markdown",
      "metadata": {},
      "source": [
        "## Sección 4: Probamos nuestra blockchain\n",
        "\n",
        "Vamos a crear nuestra blockchain y añadir algunos bloques con datos simulados de transacciones.\n"
      ]
    },
    {
      "cell_type": "code",
      "execution_count": 10,
      "metadata": {},
      "outputs": [
        {
          "name": "stdout",
          "output_type": "stream",
          "text": [
            "⛏️ Mining block 1...\n",
            "✅ Block mined: 000bbf9290baf45b1157c54afe5c2a889a4ebbdcfe6b47c406b0ec0b7685764c\n",
            "⛏️ Mining block 2...\n",
            "✅ Block mined: 0003c531b24bef13637f37fa009817aa77c01a652b718d4b30082b10dca18dfa\n",
            "⛏️ Mining block 3...\n",
            "✅ Block mined: 0004b260bcfc4b7e1a1b3855fa8f55abef2f9c533b5e0ec6320994009608ecab\n",
            "{\n",
            "    \"index\": 0,\n",
            "    \"timestamp\": 1745943867.05388,\n",
            "    \"data\": \"Genesis Block\",\n",
            "    \"previous_hash\": \"0\",\n",
            "    \"nonce\": 0,\n",
            "    \"hash\": \"22fe0c3f15d515c4f6f97382b3e010c199968a690af3ac9bfc61ad7395e187d5\"\n",
            "}\n",
            "----------------------------------------\n",
            "{\n",
            "    \"index\": 1,\n",
            "    \"timestamp\": 1745943867.0540102,\n",
            "    \"data\": {\n",
            "        \"from\": \"Alice\",\n",
            "        \"to\": \"Bob\",\n",
            "        \"amount\": 100\n",
            "    },\n",
            "    \"previous_hash\": \"22fe0c3f15d515c4f6f97382b3e010c199968a690af3ac9bfc61ad7395e187d5\",\n",
            "    \"nonce\": 1571,\n",
            "    \"hash\": \"000bbf9290baf45b1157c54afe5c2a889a4ebbdcfe6b47c406b0ec0b7685764c\"\n",
            "}\n",
            "----------------------------------------\n",
            "{\n",
            "    \"index\": 2,\n",
            "    \"timestamp\": 1745943867.0888588,\n",
            "    \"data\": {\n",
            "        \"from\": \"Bob\",\n",
            "        \"to\": \"Charlie\",\n",
            "        \"amount\": 50\n",
            "    },\n",
            "    \"previous_hash\": \"000bbf9290baf45b1157c54afe5c2a889a4ebbdcfe6b47c406b0ec0b7685764c\",\n",
            "    \"nonce\": 7038,\n",
            "    \"hash\": \"0003c531b24bef13637f37fa009817aa77c01a652b718d4b30082b10dca18dfa\"\n",
            "}\n",
            "----------------------------------------\n",
            "{\n",
            "    \"index\": 3,\n",
            "    \"timestamp\": 1745943867.196482,\n",
            "    \"data\": {\n",
            "        \"from\": \"Charlie\",\n",
            "        \"to\": \"David\",\n",
            "        \"amount\": 25\n",
            "    },\n",
            "    \"previous_hash\": \"0003c531b24bef13637f37fa009817aa77c01a652b718d4b30082b10dca18dfa\",\n",
            "    \"nonce\": 4168,\n",
            "    \"hash\": \"0004b260bcfc4b7e1a1b3855fa8f55abef2f9c533b5e0ec6320994009608ecab\"\n",
            "}\n",
            "----------------------------------------\n",
            "¿La cadena es válida? True\n"
          ]
        }
      ],
      "source": [
        "# Creamos una blockchain con dificultad 3 (más fácil de minar para pruebas)\n",
        "mi_blockchain = Blockchain(difficulty=3)\n",
        "\n",
        "# Añadimos algunos bloques con datos simulados\n",
        "mi_blockchain.add_block({\"from\": \"Alice\", \"to\": \"Bob\", \"amount\": 100})\n",
        "mi_blockchain.add_block({\"from\": \"Bob\", \"to\": \"Charlie\", \"amount\": 50})\n",
        "mi_blockchain.add_block({\"from\": \"Charlie\", \"to\": \"David\", \"amount\": 25})\n",
        "\n",
        "# Imprimimos todos los bloques de la cadena\n",
        "mi_blockchain.print_chain()\n",
        "\n",
        "# Verificamos si la cadena es válida\n",
        "print(\"¿La cadena es válida?\", mi_blockchain.is_chain_valid())\n"
      ]
    },
    {
      "cell_type": "markdown",
      "metadata": {},
      "source": [
        "## Sección 5: ¿Qué aprendimos?\n",
        "\n",
        "### Conclusión\n",
        "\n",
        "Hemos construido una blockchain funcional y didáctica:\n",
        "\n",
        "- Creamos bloques con hash únicos\n",
        "- Encadenamos esos bloques usando el hash anterior\n",
        "- Aplicamos prueba de trabajo (Proof of Work)\n",
        "- Validamos la integridad de la cadena\n",
        "\n",
        "🚀 Próximos pasos posibles:\n",
        "\n",
        "- Simular ataques\n",
        "- Añadir firma digital con claves públicas/privadas\n",
        "- Crear una API con Flask para interactuar con la blockchain\n",
        "- Conectarla con otros nodos (red P2P)\n"
      ]
    }
  ],
  "metadata": {
    "kernelspec": {
      "display_name": "Python 3",
      "language": "python",
      "name": "python3"
    },
    "language_info": {
      "codemirror_mode": {
        "name": "ipython",
        "version": 3
      },
      "file_extension": ".py",
      "mimetype": "text/x-python",
      "name": "python",
      "nbconvert_exporter": "python",
      "pygments_lexer": "ipython3",
      "version": "3.11.3"
    }
  },
  "nbformat": 4,
  "nbformat_minor": 2
}
